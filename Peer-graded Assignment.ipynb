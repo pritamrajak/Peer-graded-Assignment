{
 "cells": [
  {
   "cell_type": "markdown",
   "id": "093117fc",
   "metadata": {},
   "source": [
    "<center>\n",
    "    <img src=\"https://cf-courses-data.s3.us.cloud-object-storage.appdomain.cloud/IBMDeveloperSkillsNetwork-DS0105EN-SkillsNetwork/labs/Module2/images/SN_web_lightmode.png\" width=\"300\" alt=\"cognitiveclass.ai logo\"  />\n",
    "</center>\n"
   ]
  },
  {
   "cell_type": "markdown",
   "id": "37ebafb7",
   "metadata": {},
   "source": [
    "#### Add your code below following the instructions given in the course\n"
   ]
  },
  {
   "cell_type": "markdown",
   "id": "78059d2a",
   "metadata": {},
   "source": [
    "<h1>My Jupyter Notebook on IBM Watson Studio</h1>"
   ]
  },
  {
   "cell_type": "markdown",
   "id": "c1f2870c",
   "metadata": {},
   "source": [
    "__Pritam Rajak__"
   ]
  },
  {
   "cell_type": "markdown",
   "id": "bebfed9b",
   "metadata": {},
   "source": [
    "student"
   ]
  },
  {
   "cell_type": "markdown",
   "id": "2d656378",
   "metadata": {},
   "source": [
    "_I am interested in data science because data i want to become a datascietist under the industry of Real Estate ,I want to be able help clients to make make best real Estate investments , having huge command of Data science it will personally help me to make good business decisions._\n"
   ]
  },
  {
   "cell_type": "markdown",
   "id": "1c1fdb00",
   "metadata": {},
   "source": [
    "<h3>The Following Code will Display today's time and date</h3>"
   ]
  },
  {
   "cell_type": "code",
   "execution_count": 2,
   "id": "58be4947",
   "metadata": {},
   "outputs": [
    {
     "name": "stdout",
     "output_type": "stream",
     "text": [
      "Today's Date and Time is  2022-12-28 16:34:10.302829\n"
     ]
    }
   ],
   "source": [
    "import datetime \n",
    "message = \"Today's Date and Time is \" \n",
    "print (message , datetime.datetime.now() )"
   ]
  },
  {
   "cell_type": "markdown",
   "id": "b4a1c275",
   "metadata": {},
   "source": [
    "<h2>My favourite Fruits</h2>"
   ]
  },
  {
   "cell_type": "markdown",
   "id": "21a7fe87",
   "metadata": {},
   "source": [
    "1. Apple\n",
    "2. Banana\n",
    "3. Orange\n",
    "4. Mango\n",
    "5. Grapes"
   ]
  },
  {
   "cell_type": "markdown",
   "id": "96ae04bb",
   "metadata": {},
   "source": [
    "| Needs | Wants | \n",
    "| --- | --- |\n",
    "| Water | Car |\n",
    "| Food | Phone |\n",
    "| Education | Computer |\n",
    "| Medicine | Television |"
   ]
  },
  {
   "cell_type": "markdown",
   "id": "0c8434f7",
   "metadata": {},
   "source": [
    "https://web.facebook.com/"
   ]
  },
  {
   "cell_type": "code",
   "execution_count": null,
   "id": "2f77fd07",
   "metadata": {},
   "outputs": [],
   "source": []
  }
 ],
 "metadata": {
  "kernelspec": {
   "display_name": "Python 3 (ipykernel)",
   "language": "python",
   "name": "python3"
  },
  "language_info": {
   "codemirror_mode": {
    "name": "ipython",
    "version": 3
   },
   "file_extension": ".py",
   "mimetype": "text/x-python",
   "name": "python",
   "nbconvert_exporter": "python",
   "pygments_lexer": "ipython3",
   "version": "3.10.6"
  }
 },
 "nbformat": 4,
 "nbformat_minor": 5
}
